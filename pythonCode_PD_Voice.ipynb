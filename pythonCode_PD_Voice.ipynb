{
 "cells": [
  {
   "cell_type": "markdown",
   "metadata": {},
   "source": [
    "# Python-code for Diagnosing Parkinson's Disease through Patient Voice Analysis using Machine Learning Models."
   ]
  },
  {
   "cell_type": "markdown",
   "metadata": {},
   "source": [
    "## Installing and importing the necesary packages"
   ]
  },
  {
   "cell_type": "code",
   "execution_count": null,
   "metadata": {},
   "outputs": [],
   "source": [
    "## Installing\n",
    "#!pip install pandas numpy matplotlib seaborn scikit-learn\n",
    "\n",
    "## Importing necessary packages\n",
    "# Windows: python.exe -m pip install sklearn\n",
    "# macOS terminal: python3 -m pip install sklearn\n",
    "import math\n",
    "import numpy as np\n",
    "import pandas as pd\n",
    "import seaborn as sns\n",
    "import matplotlib.pyplot as plt\n",
    "\n",
    "## Preprocessing\n",
    "from sklearn.preprocessing import minmax_scale\n",
    "from sklearn.model_selection import train_test_split, KFold, cross_val_score\n",
    "\n",
    "## Initializing classification algorithms\n",
    "from sklearn.neighbors import KNeighborsClassifier #KNN\n",
    "from sklearn.linear_model import LogisticRegression #LR\n",
    "from sklearn.naive_bayes import GaussianNB #NB\n",
    "from sklearn.random_forest import RandomForestClassifier  #RF\n",
    "from sklearn.svm import SVC #SVM\n",
    "\n",
    "##Metrics\n",
    "from sklearn import metrics\n",
    "from sklearn.metrics import roc_auc_score\n",
    "from sklearn.metrics import roc_curve\n",
    "\n",
    "## Warning   \n",
    "import warnings\n",
    "warnings.filterwarnings('ignore')"
   ]
  },
  {
   "cell_type": "markdown",
   "metadata": {},
   "source": [
    "## Loading the Dataset"
   ]
  },
  {
   "cell_type": "code",
   "execution_count": 2,
   "metadata": {},
   "outputs": [
    {
     "data": {
      "text/plain": [
       "(240, 48)"
      ]
     },
     "execution_count": 2,
     "metadata": {},
     "output_type": "execute_result"
    }
   ],
   "source": [
    "# Loading the dataset with 240 records and 48 variables\n",
    "df = pd.read_csv('dataset/ParkinsonDatabase.csv')\n",
    "df.shape"
   ]
  },
  {
   "cell_type": "code",
   "execution_count": 3,
   "metadata": {},
   "outputs": [
    {
     "data": {
      "text/html": [
       "<div>\n",
       "<style scoped>\n",
       "    .dataframe tbody tr th:only-of-type {\n",
       "        vertical-align: middle;\n",
       "    }\n",
       "\n",
       "    .dataframe tbody tr th {\n",
       "        vertical-align: top;\n",
       "    }\n",
       "\n",
       "    .dataframe thead th {\n",
       "        text-align: right;\n",
       "    }\n",
       "</style>\n",
       "<table border=\"1\" class=\"dataframe\">\n",
       "  <thead>\n",
       "    <tr style=\"text-align: right;\">\n",
       "      <th></th>\n",
       "      <th>ID</th>\n",
       "      <th>Recording</th>\n",
       "      <th>Status</th>\n",
       "      <th>Gender</th>\n",
       "      <th>Jitter_rel</th>\n",
       "      <th>Jitter_abs</th>\n",
       "      <th>Jitter_RAP</th>\n",
       "      <th>Jitter_PPQ</th>\n",
       "      <th>Shim_loc</th>\n",
       "      <th>Shim_dB</th>\n",
       "      <th>...</th>\n",
       "      <th>Delta3</th>\n",
       "      <th>Delta4</th>\n",
       "      <th>Delta5</th>\n",
       "      <th>Delta6</th>\n",
       "      <th>Delta7</th>\n",
       "      <th>Delta8</th>\n",
       "      <th>Delta9</th>\n",
       "      <th>Delta10</th>\n",
       "      <th>Delta11</th>\n",
       "      <th>Delta12</th>\n",
       "    </tr>\n",
       "  </thead>\n",
       "  <tbody>\n",
       "    <tr>\n",
       "      <th>0</th>\n",
       "      <td>CONT-01</td>\n",
       "      <td>1</td>\n",
       "      <td>0</td>\n",
       "      <td>1</td>\n",
       "      <td>0.25546</td>\n",
       "      <td>0.000015</td>\n",
       "      <td>0.001467</td>\n",
       "      <td>0.001673</td>\n",
       "      <td>0.030256</td>\n",
       "      <td>0.26313</td>\n",
       "      <td>...</td>\n",
       "      <td>1.407701</td>\n",
       "      <td>1.417218</td>\n",
       "      <td>1.380352</td>\n",
       "      <td>1.420670</td>\n",
       "      <td>1.451240</td>\n",
       "      <td>1.440295</td>\n",
       "      <td>1.403678</td>\n",
       "      <td>1.405495</td>\n",
       "      <td>1.416705</td>\n",
       "      <td>1.354610</td>\n",
       "    </tr>\n",
       "    <tr>\n",
       "      <th>1</th>\n",
       "      <td>CONT-01</td>\n",
       "      <td>2</td>\n",
       "      <td>0</td>\n",
       "      <td>1</td>\n",
       "      <td>0.36964</td>\n",
       "      <td>0.000022</td>\n",
       "      <td>0.001932</td>\n",
       "      <td>0.002245</td>\n",
       "      <td>0.023146</td>\n",
       "      <td>0.20217</td>\n",
       "      <td>...</td>\n",
       "      <td>1.331232</td>\n",
       "      <td>1.227338</td>\n",
       "      <td>1.213377</td>\n",
       "      <td>1.352739</td>\n",
       "      <td>1.354242</td>\n",
       "      <td>1.365692</td>\n",
       "      <td>1.322870</td>\n",
       "      <td>1.314549</td>\n",
       "      <td>1.318999</td>\n",
       "      <td>1.323508</td>\n",
       "    </tr>\n",
       "    <tr>\n",
       "      <th>2</th>\n",
       "      <td>CONT-01</td>\n",
       "      <td>3</td>\n",
       "      <td>0</td>\n",
       "      <td>1</td>\n",
       "      <td>0.23514</td>\n",
       "      <td>0.000013</td>\n",
       "      <td>0.001353</td>\n",
       "      <td>0.001546</td>\n",
       "      <td>0.019338</td>\n",
       "      <td>0.16710</td>\n",
       "      <td>...</td>\n",
       "      <td>1.412304</td>\n",
       "      <td>1.324674</td>\n",
       "      <td>1.276088</td>\n",
       "      <td>1.429634</td>\n",
       "      <td>1.455996</td>\n",
       "      <td>1.368882</td>\n",
       "      <td>1.438053</td>\n",
       "      <td>1.388910</td>\n",
       "      <td>1.305469</td>\n",
       "      <td>1.305402</td>\n",
       "    </tr>\n",
       "    <tr>\n",
       "      <th>3</th>\n",
       "      <td>CONT-02</td>\n",
       "      <td>1</td>\n",
       "      <td>0</td>\n",
       "      <td>0</td>\n",
       "      <td>0.29320</td>\n",
       "      <td>0.000017</td>\n",
       "      <td>0.001105</td>\n",
       "      <td>0.001444</td>\n",
       "      <td>0.024716</td>\n",
       "      <td>0.20892</td>\n",
       "      <td>...</td>\n",
       "      <td>1.501200</td>\n",
       "      <td>1.534170</td>\n",
       "      <td>1.323993</td>\n",
       "      <td>1.496442</td>\n",
       "      <td>1.472926</td>\n",
       "      <td>1.643177</td>\n",
       "      <td>1.551286</td>\n",
       "      <td>1.638346</td>\n",
       "      <td>1.604008</td>\n",
       "      <td>1.621456</td>\n",
       "    </tr>\n",
       "  </tbody>\n",
       "</table>\n",
       "<p>4 rows × 48 columns</p>\n",
       "</div>"
      ],
      "text/plain": [
       "        ID  Recording  Status  Gender  Jitter_rel  Jitter_abs  Jitter_RAP  \\\n",
       "0  CONT-01          1       0       1     0.25546    0.000015    0.001467   \n",
       "1  CONT-01          2       0       1     0.36964    0.000022    0.001932   \n",
       "2  CONT-01          3       0       1     0.23514    0.000013    0.001353   \n",
       "3  CONT-02          1       0       0     0.29320    0.000017    0.001105   \n",
       "\n",
       "   Jitter_PPQ  Shim_loc  Shim_dB  ...    Delta3    Delta4    Delta5    Delta6  \\\n",
       "0    0.001673  0.030256  0.26313  ...  1.407701  1.417218  1.380352  1.420670   \n",
       "1    0.002245  0.023146  0.20217  ...  1.331232  1.227338  1.213377  1.352739   \n",
       "2    0.001546  0.019338  0.16710  ...  1.412304  1.324674  1.276088  1.429634   \n",
       "3    0.001444  0.024716  0.20892  ...  1.501200  1.534170  1.323993  1.496442   \n",
       "\n",
       "     Delta7    Delta8    Delta9   Delta10   Delta11   Delta12  \n",
       "0  1.451240  1.440295  1.403678  1.405495  1.416705  1.354610  \n",
       "1  1.354242  1.365692  1.322870  1.314549  1.318999  1.323508  \n",
       "2  1.455996  1.368882  1.438053  1.388910  1.305469  1.305402  \n",
       "3  1.472926  1.643177  1.551286  1.638346  1.604008  1.621456  \n",
       "\n",
       "[4 rows x 48 columns]"
      ]
     },
     "execution_count": 3,
     "metadata": {},
     "output_type": "execute_result"
    }
   ],
   "source": [
    "# Analyzing the first 4 rows of the dataset\n",
    "df.head(4)\n",
    "# Observing the data types of the variables\n",
    "# df.dtypes"
   ]
  },
  {
   "cell_type": "markdown",
   "metadata": {},
   "source": [
    "## Preprocessing and Standardization"
   ]
  },
  {
   "cell_type": "code",
   "execution_count": 4,
   "metadata": {},
   "outputs": [
    {
     "data": {
      "text/plain": [
       "Index(['ID', 'Recording', 'Status', 'Gender', 'Jitter_rel', 'Jitter_abs',\n",
       "       'Jitter_RAP', 'Jitter_PPQ', 'Shim_loc', 'Shim_dB', 'Shim_APQ3',\n",
       "       'Shim_APQ5', 'Shim_APQ11', 'HNR05', 'HNR15', 'HNR25', 'HNR35', 'HNR38',\n",
       "       'RPDE', 'DFA', 'PPE', 'GNE', 'MFCC0', 'MFCC1', 'MFCC2', 'MFCC3',\n",
       "       'MFCC4', 'MFCC5', 'MFCC6', 'MFCC7', 'MFCC8', 'MFCC9', 'MFCC10',\n",
       "       'MFCC11', 'MFCC12', 'Delta0', 'Delta1', 'Delta2', 'Delta3', 'Delta4',\n",
       "       'Delta5', 'Delta6', 'Delta7', 'Delta8', 'Delta9', 'Delta10', 'Delta11',\n",
       "       'Delta12'],\n",
       "      dtype='object')"
      ]
     },
     "execution_count": 4,
     "metadata": {},
     "output_type": "execute_result"
    }
   ],
   "source": [
    "## Variable Names\n",
    "nomeColunas = df.columns\n",
    "nomeColunas"
   ]
  },
  {
   "cell_type": "code",
   "execution_count": 5,
   "metadata": {},
   "outputs": [],
   "source": [
    "## Creating a list with the attributes, separating them from other variables\n",
    "atributos = nomeColunas[4:]\n",
    "# Creating a loop for data standardization\n",
    "contador = 4\n",
    "for atributo in atributos:\n",
    "    padronizados = []\n",
    "    \n",
    "    for i in df[atributo]:\n",
    "        padronizados.append(math.log(i,10))\n",
    "    \n",
    "    padronizados = minmax_scale(padronizados)\n",
    "    df = df.drop(columns=atributo)\n",
    "    df.insert(loc=contador, column=atributo, value=padronizados)\n",
    "    contador += 1"
   ]
  },
  {
   "cell_type": "code",
   "execution_count": 6,
   "metadata": {},
   "outputs": [
    {
     "data": {
      "text/html": [
       "<div>\n",
       "<style scoped>\n",
       "    .dataframe tbody tr th:only-of-type {\n",
       "        vertical-align: middle;\n",
       "    }\n",
       "\n",
       "    .dataframe tbody tr th {\n",
       "        vertical-align: top;\n",
       "    }\n",
       "\n",
       "    .dataframe thead th {\n",
       "        text-align: right;\n",
       "    }\n",
       "</style>\n",
       "<table border=\"1\" class=\"dataframe\">\n",
       "  <thead>\n",
       "    <tr style=\"text-align: right;\">\n",
       "      <th></th>\n",
       "      <th>Jitter_rel</th>\n",
       "      <th>Jitter_abs</th>\n",
       "      <th>Jitter_RAP</th>\n",
       "      <th>Jitter_PPQ</th>\n",
       "      <th>Shim_loc</th>\n",
       "      <th>Shim_dB</th>\n",
       "      <th>Shim_APQ3</th>\n",
       "      <th>Shim_APQ5</th>\n",
       "      <th>Shim_APQ11</th>\n",
       "      <th>HNR05</th>\n",
       "      <th>...</th>\n",
       "      <th>Delta3</th>\n",
       "      <th>Delta4</th>\n",
       "      <th>Delta5</th>\n",
       "      <th>Delta6</th>\n",
       "      <th>Delta7</th>\n",
       "      <th>Delta8</th>\n",
       "      <th>Delta9</th>\n",
       "      <th>Delta10</th>\n",
       "      <th>Delta11</th>\n",
       "      <th>Delta12</th>\n",
       "    </tr>\n",
       "  </thead>\n",
       "  <tbody>\n",
       "  </tbody>\n",
       "</table>\n",
       "<p>0 rows × 44 columns</p>\n",
       "</div>"
      ],
      "text/plain": [
       "Empty DataFrame\n",
       "Columns: [Jitter_rel, Jitter_abs, Jitter_RAP, Jitter_PPQ, Shim_loc, Shim_dB, Shim_APQ3, Shim_APQ5, Shim_APQ11, HNR05, HNR15, HNR25, HNR35, HNR38, RPDE, DFA, PPE, GNE, MFCC0, MFCC1, MFCC2, MFCC3, MFCC4, MFCC5, MFCC6, MFCC7, MFCC8, MFCC9, MFCC10, MFCC11, MFCC12, Delta0, Delta1, Delta2, Delta3, Delta4, Delta5, Delta6, Delta7, Delta8, Delta9, Delta10, Delta11, Delta12]\n",
       "Index: []\n",
       "\n",
       "[0 rows x 44 columns]"
      ]
     },
     "execution_count": 6,
     "metadata": {},
     "output_type": "execute_result"
    }
   ],
   "source": [
    "## Creating an empty dataset to store the mean values of each patient's records\n",
    "nomeAtributos = df.columns[4: ]\n",
    "dados = pd.DataFrame(columns=nomeAtributos)\n",
    "dados.head()"
   ]
  },
  {
   "cell_type": "code",
   "execution_count": 7,
   "metadata": {},
   "outputs": [],
   "source": [
    "## Declaring the new variables status and gender to collect their values every 3 records as well as create the DataFrame\n",
    "status = df['Status'].tolist()\n",
    "gender = df['Gender'].tolist()\n",
    "\n",
    "novoStatus = []  # empty list\n",
    "novoGender = []\n",
    "\n",
    "for i in range(0, len(status), 3):\n",
    "    novoStatus.append(status[i])\n",
    "    novoGender.append(gender[i])\n",
    "    media = df[nomeAtributos].iloc[[i, i+1, i+2]].mean(axis=0)  # Another option would be to use the median\n",
    "    dados = dados.append(media,ignore_index=True)"
   ]
  },
  {
   "cell_type": "code",
   "execution_count": 8,
   "metadata": {},
   "outputs": [
    {
     "data": {
      "text/html": [
       "<div>\n",
       "<style scoped>\n",
       "    .dataframe tbody tr th:only-of-type {\n",
       "        vertical-align: middle;\n",
       "    }\n",
       "\n",
       "    .dataframe tbody tr th {\n",
       "        vertical-align: top;\n",
       "    }\n",
       "\n",
       "    .dataframe thead th {\n",
       "        text-align: right;\n",
       "    }\n",
       "</style>\n",
       "<table border=\"1\" class=\"dataframe\">\n",
       "  <thead>\n",
       "    <tr style=\"text-align: right;\">\n",
       "      <th></th>\n",
       "      <th>Jitter_rel</th>\n",
       "      <th>Jitter_abs</th>\n",
       "      <th>Jitter_RAP</th>\n",
       "      <th>Jitter_PPQ</th>\n",
       "      <th>Shim_loc</th>\n",
       "      <th>Shim_dB</th>\n",
       "      <th>Shim_APQ3</th>\n",
       "      <th>Shim_APQ5</th>\n",
       "      <th>Shim_APQ11</th>\n",
       "      <th>HNR05</th>\n",
       "      <th>...</th>\n",
       "      <th>Delta3</th>\n",
       "      <th>Delta4</th>\n",
       "      <th>Delta5</th>\n",
       "      <th>Delta6</th>\n",
       "      <th>Delta7</th>\n",
       "      <th>Delta8</th>\n",
       "      <th>Delta9</th>\n",
       "      <th>Delta10</th>\n",
       "      <th>Delta11</th>\n",
       "      <th>Delta12</th>\n",
       "    </tr>\n",
       "  </thead>\n",
       "  <tbody>\n",
       "    <tr>\n",
       "      <th>0</th>\n",
       "      <td>0.167313</td>\n",
       "      <td>0.188417</td>\n",
       "      <td>0.200556</td>\n",
       "      <td>0.133088</td>\n",
       "      <td>0.357736</td>\n",
       "      <td>0.352159</td>\n",
       "      <td>0.398112</td>\n",
       "      <td>0.387301</td>\n",
       "      <td>0.31035</td>\n",
       "      <td>0.642315</td>\n",
       "      <td>...</td>\n",
       "      <td>0.665718</td>\n",
       "      <td>0.510483</td>\n",
       "      <td>0.628141</td>\n",
       "      <td>0.63589</td>\n",
       "      <td>0.690788</td>\n",
       "      <td>0.650952</td>\n",
       "      <td>0.613847</td>\n",
       "      <td>0.615713</td>\n",
       "      <td>0.675877</td>\n",
       "      <td>0.605082</td>\n",
       "    </tr>\n",
       "    <tr>\n",
       "      <th>1</th>\n",
       "      <td>0.107455</td>\n",
       "      <td>0.150592</td>\n",
       "      <td>0.09073</td>\n",
       "      <td>0.062494</td>\n",
       "      <td>0.217872</td>\n",
       "      <td>0.215143</td>\n",
       "      <td>0.248739</td>\n",
       "      <td>0.252244</td>\n",
       "      <td>0.202908</td>\n",
       "      <td>0.725295</td>\n",
       "      <td>...</td>\n",
       "      <td>0.75463</td>\n",
       "      <td>0.660136</td>\n",
       "      <td>0.747662</td>\n",
       "      <td>0.79197</td>\n",
       "      <td>0.710295</td>\n",
       "      <td>0.753832</td>\n",
       "      <td>0.780908</td>\n",
       "      <td>0.789895</td>\n",
       "      <td>0.780707</td>\n",
       "      <td>0.71506</td>\n",
       "    </tr>\n",
       "    <tr>\n",
       "      <th>2</th>\n",
       "      <td>0.113051</td>\n",
       "      <td>0.166572</td>\n",
       "      <td>0.166969</td>\n",
       "      <td>0.095198</td>\n",
       "      <td>0.27671</td>\n",
       "      <td>0.274003</td>\n",
       "      <td>0.305235</td>\n",
       "      <td>0.31693</td>\n",
       "      <td>0.257402</td>\n",
       "      <td>0.787118</td>\n",
       "      <td>...</td>\n",
       "      <td>0.844668</td>\n",
       "      <td>0.646489</td>\n",
       "      <td>0.781302</td>\n",
       "      <td>0.620814</td>\n",
       "      <td>0.762391</td>\n",
       "      <td>0.666213</td>\n",
       "      <td>0.65504</td>\n",
       "      <td>0.766339</td>\n",
       "      <td>0.883611</td>\n",
       "      <td>0.752251</td>\n",
       "    </tr>\n",
       "  </tbody>\n",
       "</table>\n",
       "<p>3 rows × 44 columns</p>\n",
       "</div>"
      ],
      "text/plain": [
       "  Jitter_rel Jitter_abs Jitter_RAP Jitter_PPQ  Shim_loc   Shim_dB Shim_APQ3  \\\n",
       "0   0.167313   0.188417   0.200556   0.133088  0.357736  0.352159  0.398112   \n",
       "1   0.107455   0.150592    0.09073   0.062494  0.217872  0.215143  0.248739   \n",
       "2   0.113051   0.166572   0.166969   0.095198   0.27671  0.274003  0.305235   \n",
       "\n",
       "  Shim_APQ5 Shim_APQ11     HNR05  ...    Delta3    Delta4    Delta5    Delta6  \\\n",
       "0  0.387301    0.31035  0.642315  ...  0.665718  0.510483  0.628141   0.63589   \n",
       "1  0.252244   0.202908  0.725295  ...   0.75463  0.660136  0.747662   0.79197   \n",
       "2   0.31693   0.257402  0.787118  ...  0.844668  0.646489  0.781302  0.620814   \n",
       "\n",
       "     Delta7    Delta8    Delta9   Delta10   Delta11   Delta12  \n",
       "0  0.690788  0.650952  0.613847  0.615713  0.675877  0.605082  \n",
       "1  0.710295  0.753832  0.780908  0.789895  0.780707   0.71506  \n",
       "2  0.762391  0.666213   0.65504  0.766339  0.883611  0.752251  \n",
       "\n",
       "[3 rows x 44 columns]"
      ]
     },
     "execution_count": 8,
     "metadata": {},
     "output_type": "execute_result"
    }
   ],
   "source": [
    "## Observing the first 3 records of the new dataset.\n",
    "dados.head(3)"
   ]
  },
  {
   "cell_type": "code",
   "execution_count": 9,
   "metadata": {},
   "outputs": [
    {
     "data": {
      "text/html": [
       "<div>\n",
       "<style scoped>\n",
       "    .dataframe tbody tr th:only-of-type {\n",
       "        vertical-align: middle;\n",
       "    }\n",
       "\n",
       "    .dataframe tbody tr th {\n",
       "        vertical-align: top;\n",
       "    }\n",
       "\n",
       "    .dataframe thead th {\n",
       "        text-align: right;\n",
       "    }\n",
       "</style>\n",
       "<table border=\"1\" class=\"dataframe\">\n",
       "  <thead>\n",
       "    <tr style=\"text-align: right;\">\n",
       "      <th></th>\n",
       "      <th>Status</th>\n",
       "      <th>Gender</th>\n",
       "      <th>Jitter_rel</th>\n",
       "      <th>Jitter_abs</th>\n",
       "      <th>Jitter_RAP</th>\n",
       "      <th>Jitter_PPQ</th>\n",
       "      <th>Shim_loc</th>\n",
       "      <th>Shim_dB</th>\n",
       "      <th>Shim_APQ3</th>\n",
       "      <th>Shim_APQ5</th>\n",
       "      <th>...</th>\n",
       "      <th>Delta3</th>\n",
       "      <th>Delta4</th>\n",
       "      <th>Delta5</th>\n",
       "      <th>Delta6</th>\n",
       "      <th>Delta7</th>\n",
       "      <th>Delta8</th>\n",
       "      <th>Delta9</th>\n",
       "      <th>Delta10</th>\n",
       "      <th>Delta11</th>\n",
       "      <th>Delta12</th>\n",
       "    </tr>\n",
       "  </thead>\n",
       "  <tbody>\n",
       "    <tr>\n",
       "      <th>0</th>\n",
       "      <td>0</td>\n",
       "      <td>1</td>\n",
       "      <td>0.167313</td>\n",
       "      <td>0.188417</td>\n",
       "      <td>0.200556</td>\n",
       "      <td>0.133088</td>\n",
       "      <td>0.357736</td>\n",
       "      <td>0.352159</td>\n",
       "      <td>0.398112</td>\n",
       "      <td>0.387301</td>\n",
       "      <td>...</td>\n",
       "      <td>0.665718</td>\n",
       "      <td>0.510483</td>\n",
       "      <td>0.628141</td>\n",
       "      <td>0.63589</td>\n",
       "      <td>0.690788</td>\n",
       "      <td>0.650952</td>\n",
       "      <td>0.613847</td>\n",
       "      <td>0.615713</td>\n",
       "      <td>0.675877</td>\n",
       "      <td>0.605082</td>\n",
       "    </tr>\n",
       "    <tr>\n",
       "      <th>1</th>\n",
       "      <td>0</td>\n",
       "      <td>0</td>\n",
       "      <td>0.107455</td>\n",
       "      <td>0.150592</td>\n",
       "      <td>0.09073</td>\n",
       "      <td>0.062494</td>\n",
       "      <td>0.217872</td>\n",
       "      <td>0.215143</td>\n",
       "      <td>0.248739</td>\n",
       "      <td>0.252244</td>\n",
       "      <td>...</td>\n",
       "      <td>0.75463</td>\n",
       "      <td>0.660136</td>\n",
       "      <td>0.747662</td>\n",
       "      <td>0.79197</td>\n",
       "      <td>0.710295</td>\n",
       "      <td>0.753832</td>\n",
       "      <td>0.780908</td>\n",
       "      <td>0.789895</td>\n",
       "      <td>0.780707</td>\n",
       "      <td>0.71506</td>\n",
       "    </tr>\n",
       "    <tr>\n",
       "      <th>2</th>\n",
       "      <td>0</td>\n",
       "      <td>1</td>\n",
       "      <td>0.113051</td>\n",
       "      <td>0.166572</td>\n",
       "      <td>0.166969</td>\n",
       "      <td>0.095198</td>\n",
       "      <td>0.27671</td>\n",
       "      <td>0.274003</td>\n",
       "      <td>0.305235</td>\n",
       "      <td>0.31693</td>\n",
       "      <td>...</td>\n",
       "      <td>0.844668</td>\n",
       "      <td>0.646489</td>\n",
       "      <td>0.781302</td>\n",
       "      <td>0.620814</td>\n",
       "      <td>0.762391</td>\n",
       "      <td>0.666213</td>\n",
       "      <td>0.65504</td>\n",
       "      <td>0.766339</td>\n",
       "      <td>0.883611</td>\n",
       "      <td>0.752251</td>\n",
       "    </tr>\n",
       "    <tr>\n",
       "      <th>3</th>\n",
       "      <td>0</td>\n",
       "      <td>1</td>\n",
       "      <td>0.530916</td>\n",
       "      <td>0.580286</td>\n",
       "      <td>0.553443</td>\n",
       "      <td>0.430681</td>\n",
       "      <td>0.379989</td>\n",
       "      <td>0.378006</td>\n",
       "      <td>0.416113</td>\n",
       "      <td>0.372117</td>\n",
       "      <td>...</td>\n",
       "      <td>0.768217</td>\n",
       "      <td>0.611319</td>\n",
       "      <td>0.826046</td>\n",
       "      <td>0.683721</td>\n",
       "      <td>0.813216</td>\n",
       "      <td>0.707039</td>\n",
       "      <td>0.800814</td>\n",
       "      <td>0.608143</td>\n",
       "      <td>0.84481</td>\n",
       "      <td>0.788565</td>\n",
       "    </tr>\n",
       "    <tr>\n",
       "      <th>4</th>\n",
       "      <td>0</td>\n",
       "      <td>0</td>\n",
       "      <td>0.359656</td>\n",
       "      <td>0.547033</td>\n",
       "      <td>0.343497</td>\n",
       "      <td>0.298568</td>\n",
       "      <td>0.480625</td>\n",
       "      <td>0.472485</td>\n",
       "      <td>0.494463</td>\n",
       "      <td>0.496986</td>\n",
       "      <td>...</td>\n",
       "      <td>0.673844</td>\n",
       "      <td>0.643307</td>\n",
       "      <td>0.902141</td>\n",
       "      <td>0.749905</td>\n",
       "      <td>0.923264</td>\n",
       "      <td>0.657936</td>\n",
       "      <td>0.675329</td>\n",
       "      <td>0.618058</td>\n",
       "      <td>0.721695</td>\n",
       "      <td>0.762546</td>\n",
       "    </tr>\n",
       "    <tr>\n",
       "      <th>5</th>\n",
       "      <td>0</td>\n",
       "      <td>1</td>\n",
       "      <td>0.291063</td>\n",
       "      <td>0.336965</td>\n",
       "      <td>0.323384</td>\n",
       "      <td>0.241492</td>\n",
       "      <td>0.383459</td>\n",
       "      <td>0.377171</td>\n",
       "      <td>0.421476</td>\n",
       "      <td>0.409746</td>\n",
       "      <td>...</td>\n",
       "      <td>0.703088</td>\n",
       "      <td>0.583173</td>\n",
       "      <td>0.743789</td>\n",
       "      <td>0.532694</td>\n",
       "      <td>0.764949</td>\n",
       "      <td>0.569778</td>\n",
       "      <td>0.662128</td>\n",
       "      <td>0.613788</td>\n",
       "      <td>0.71815</td>\n",
       "      <td>0.672893</td>\n",
       "    </tr>\n",
       "    <tr>\n",
       "      <th>6</th>\n",
       "      <td>0</td>\n",
       "      <td>0</td>\n",
       "      <td>0.336539</td>\n",
       "      <td>0.443115</td>\n",
       "      <td>0.342664</td>\n",
       "      <td>0.280001</td>\n",
       "      <td>0.567571</td>\n",
       "      <td>0.5613</td>\n",
       "      <td>0.583487</td>\n",
       "      <td>0.59396</td>\n",
       "      <td>...</td>\n",
       "      <td>0.735636</td>\n",
       "      <td>0.680964</td>\n",
       "      <td>0.734013</td>\n",
       "      <td>0.769594</td>\n",
       "      <td>0.706692</td>\n",
       "      <td>0.799334</td>\n",
       "      <td>0.686373</td>\n",
       "      <td>0.769432</td>\n",
       "      <td>0.852655</td>\n",
       "      <td>0.746786</td>\n",
       "    </tr>\n",
       "  </tbody>\n",
       "</table>\n",
       "<p>7 rows × 46 columns</p>\n",
       "</div>"
      ],
      "text/plain": [
       "   Status  Gender Jitter_rel Jitter_abs Jitter_RAP Jitter_PPQ  Shim_loc  \\\n",
       "0       0       1   0.167313   0.188417   0.200556   0.133088  0.357736   \n",
       "1       0       0   0.107455   0.150592    0.09073   0.062494  0.217872   \n",
       "2       0       1   0.113051   0.166572   0.166969   0.095198   0.27671   \n",
       "3       0       1   0.530916   0.580286   0.553443   0.430681  0.379989   \n",
       "4       0       0   0.359656   0.547033   0.343497   0.298568  0.480625   \n",
       "5       0       1   0.291063   0.336965   0.323384   0.241492  0.383459   \n",
       "6       0       0   0.336539   0.443115   0.342664   0.280001  0.567571   \n",
       "\n",
       "    Shim_dB Shim_APQ3 Shim_APQ5  ...    Delta3    Delta4    Delta5    Delta6  \\\n",
       "0  0.352159  0.398112  0.387301  ...  0.665718  0.510483  0.628141   0.63589   \n",
       "1  0.215143  0.248739  0.252244  ...   0.75463  0.660136  0.747662   0.79197   \n",
       "2  0.274003  0.305235   0.31693  ...  0.844668  0.646489  0.781302  0.620814   \n",
       "3  0.378006  0.416113  0.372117  ...  0.768217  0.611319  0.826046  0.683721   \n",
       "4  0.472485  0.494463  0.496986  ...  0.673844  0.643307  0.902141  0.749905   \n",
       "5  0.377171  0.421476  0.409746  ...  0.703088  0.583173  0.743789  0.532694   \n",
       "6    0.5613  0.583487   0.59396  ...  0.735636  0.680964  0.734013  0.769594   \n",
       "\n",
       "     Delta7    Delta8    Delta9   Delta10   Delta11   Delta12  \n",
       "0  0.690788  0.650952  0.613847  0.615713  0.675877  0.605082  \n",
       "1  0.710295  0.753832  0.780908  0.789895  0.780707   0.71506  \n",
       "2  0.762391  0.666213   0.65504  0.766339  0.883611  0.752251  \n",
       "3  0.813216  0.707039  0.800814  0.608143   0.84481  0.788565  \n",
       "4  0.923264  0.657936  0.675329  0.618058  0.721695  0.762546  \n",
       "5  0.764949  0.569778  0.662128  0.613788   0.71815  0.672893  \n",
       "6  0.706692  0.799334  0.686373  0.769432  0.852655  0.746786  \n",
       "\n",
       "[7 rows x 46 columns]"
      ]
     },
     "execution_count": 9,
     "metadata": {},
     "output_type": "execute_result"
    }
   ],
   "source": [
    "## Inserting the variables Gender and Status into the Dataset\n",
    "dados.insert(0, 'Gender', novoGender)\n",
    "dados.insert(0, 'Status', novoStatus)\n",
    "# Observing the first 7 records of the Dataset\n",
    "dados.head(7)"
   ]
  },
  {
   "cell_type": "code",
   "execution_count": 10,
   "metadata": {},
   "outputs": [
    {
     "data": {
      "text/plain": [
       "(80, 46)"
      ]
     },
     "execution_count": 10,
     "metadata": {},
     "output_type": "execute_result"
    }
   ],
   "source": [
    "# Creating a copy of the Dataset\n",
    "dados_finais = dados\n",
    "dados_finais.shape"
   ]
  },
  {
   "cell_type": "markdown",
   "metadata": {},
   "source": [
    "## Splitting the data"
   ]
  },
  {
   "cell_type": "code",
   "execution_count": 11,
   "metadata": {},
   "outputs": [],
   "source": [
    "## Splitting data into training and testing sets\n",
    "df_valor = dados_finais.values\n",
    "target = df_valor[: , 0].astype(int)\n",
    "atributos = np.delete(df_valor, 0, 1)\n",
    "\n",
    "x_treino, x_teste, y_treino, y_teste = train_test_split(atributos, \n",
    "                                            target, test_size = 0.33, random_state=1245)"
   ]
  },
  {
   "cell_type": "code",
   "execution_count": 12,
   "metadata": {},
   "outputs": [
    {
     "data": {
      "text/plain": [
       "(53, 45)"
      ]
     },
     "execution_count": 12,
     "metadata": {},
     "output_type": "execute_result"
    }
   ],
   "source": [
    "## Observing the dimensions of training and testing data\n",
    "x_treino.shape\n",
    "y_teste.shape"
   ]
  },
  {
   "cell_type": "markdown",
   "metadata": {},
   "source": [
    "## Training the models and selecting the best ones"
   ]
  },
  {
   "cell_type": "markdown",
   "metadata": {},
   "source": [
    "#### Training the models"
   ]
  },
  {
   "cell_type": "code",
   "execution_count": 14,
   "metadata": {},
   "outputs": [],
   "source": [
    "## Training models and selecting the top three based on accuracy\n",
    "# Metric defined to be used for selecting the 3 best model\n",
    "# options: 'f1_macro', 'precision_macro', 'recall_macro', 'accuracy'\n",
    "\n",
    "# List of model names for training\n",
    "nomes_modelos = [\"Nearest Neighbors\", \n",
    "                    \"Logistic Regression\", \n",
    "                    \"Naive Bayes\", \n",
    "                    \"Random Forest\", \n",
    "                    \"SVM Linear\", \n",
    "                    \"SVM Sigmoid\"]\n",
    "\n",
    "# Now create the classifiers based on the chosen models.\n",
    "# Mentioned in the article.\n",
    "classificadores = [\n",
    "    KNeighborsClassifier(n_neighbors = 5),\n",
    "    LogisticRegression(multi_class = 'multinomial', random_state = 1245),\n",
    "    GaussianNB(), \n",
    "    RandomForestClassifier(random_state = 1245),\n",
    "    SVC(kernel = 'linear'), \n",
    "    SVC(kernel = 'sigmoid')\n",
    "]"
   ]
  },
  {
   "cell_type": "code",
   "execution_count": null,
   "metadata": {},
   "outputs": [
    {
     "name": "stdout",
     "output_type": "stream",
     "text": [
      "Nearest Neighbors: 81.25 (8.09)\n",
      "Logistic Regression: 83.10 (10.53)\n",
      "Naive Bayes: 83.10 (10.53)\n",
      "Random Forest: 77.31 (11.16)\n",
      "SVM Linear: 83.33 (10.64)\n",
      "SVM Sigmoid: 54.63 (2.07)\n"
     ]
    }
   ],
   "source": [
    "## Creating an training the models\n",
    "# Lists to record the results\n",
    "resultados = []\n",
    "nomes = []\n",
    "# Combining model names and classifiers into a single object for iterations\n",
    "modelos = zip(nomes_modelos, classificadores)\n",
    "# Applying cross-validation to train all models\n",
    "for nome, modelo in modelos:\n",
    "    nfold = 6\n",
    "    cv_results = cross_val_score(modelo, x_treino, y_treino, cv = nfold, scoring = metrica)\n",
    "    resultados.append(cv_results)\n",
    "    nomes.append(nome)\n",
    "    msg = \"%s: %.2f (%.2f)\" % (nome, cv_results.mean()*100, cv_results.std()*100)\n",
    "    print(msg)"
   ]
  },
  {
   "cell_type": "markdown",
   "metadata": {},
   "source": [
    ">  Analyzing the results above, we observe that the Linear SVM, Naive Bayes, and Logistic Regression algorithms showed the best performance. \n"
   ]
  },
  {
   "cell_type": "markdown",
   "metadata": {},
   "source": [
    "### Top 3 models analysis"
   ]
  },
  {
   "cell_type": "markdown",
   "metadata": {},
   "source": [
    "#### Creating: Naive Bayes, SVM-Linear and LR"
   ]
  },
  {
   "cell_type": "code",
   "execution_count": null,
   "metadata": {},
   "outputs": [],
   "source": [
    "## Creating the models with the best accuracy\n",
    "# Gaussian Naive Bayes Model (NB)\n",
    "modeloNB = GaussianNB()\n",
    "# Support Vector Machine Model (SVM - Linear)\n",
    "modeloSVMLinear =  SVC(kernel = 'linear', probability=True)\n",
    "# Logistic Regression Model (LR)\n",
    "modeloLR =  LogisticRegression()"
   ]
  },
  {
   "cell_type": "markdown",
   "metadata": {},
   "source": [
    "####  Confusion Matrix and Metrics for each model. "
   ]
  },
  {
   "cell_type": "code",
   "execution_count": 17,
   "metadata": {},
   "outputs": [
    {
     "name": "stdout",
     "output_type": "stream",
     "text": [
      "\n",
      "Matriz de Confusão\n",
      "[[11  0]\n",
      " [ 2 14]]\n",
      "\n",
      "Acurácia:  92.5925925925926\n",
      "\n",
      "Precisão:  100.0\n",
      "\n",
      "Recall:  87.5\n",
      "\n",
      "F1-Score:  93.33333333333333\n"
     ]
    }
   ],
   "source": [
    "## GaussianNB ##\n",
    "# Making predictions, and generating the confusion matrix\n",
    "previsao = modeloNB.fit(x_treino, y_treino)\n",
    "previsoesNB = previsao.predict(x_teste)\n",
    "cm = metrics.confusion_matrix(y_teste,previsoesNB)\n",
    "print(\"\\nMatriz de Confusão\")\n",
    "print(cm)\n",
    "# Generating important metrics such as: Accuracy, Precision, and Recall\n",
    "print(\"\\nAcurácia: \", metrics.accuracy_score(y_teste,previsoesNB)*100)\n",
    "print(\"\\nPrecisão: \", metrics.precision_score(y_teste,previsoesNB)*100)\n",
    "print(\"\\nRecall: \", metrics.recall_score(y_teste,previsoesNB)*100)\n",
    "print(\"\\nF1-Score: \", metrics.f1_score(y_teste,previsoesNB)*100)"
   ]
  },
  {
   "cell_type": "code",
   "execution_count": 18,
   "metadata": {},
   "outputs": [
    {
     "data": {
      "image/png": "[encoded data removed]",
      "text/plain": [
       "<Figure size 432x288 with 2 Axes>"
      ]
     },
     "metadata": {
      "needs_background": "light"
     },
     "output_type": "display_data"
    }
   ],
   "source": [
    "## Confusion Matrix using Seaborn\n",
    "sns.heatmap(metrics.confusion_matrix(y_teste,previsoesNB),\n",
    "annot=True,\n",
    "fmt = \".3f\",\n",
    "linewidths=0.5,\n",
    "square = True,\n",
    "cmap = 'cividis_r')\n",
    "\n",
    "plt.ylabel('Verdadeiro')\n",
    "plt.xlabel('Previsto')\n",
    "titulo = metrics.accuracy_score(y_teste, previsoesNB)\n",
    "plt.suptitle('Matriz de confusão - Modelo NB', size = 12)\n",
    "plt.title('Acurácia: {0}'.format(titulo*100), size=10)\n",
    "plt.savefig('matrixConfusaoNB.eps', format = 'eps', dpi = 300)"
   ]
  },
  {
   "cell_type": "code",
   "execution_count": 19,
   "metadata": {},
   "outputs": [
    {
     "name": "stdout",
     "output_type": "stream",
     "text": [
      "\n",
      "Matriz de Confusão\n",
      "[[11  0]\n",
      " [ 3 13]]\n",
      "\n",
      "Acurácia:  0.8888888888888888\n",
      "\n",
      "Precisão:  1.0\n",
      "\n",
      "Recall:  0.8125\n",
      "\n",
      "F1-Score:  0.896551724137931\n"
     ]
    }
   ],
   "source": [
    "## SVM-LINEAR ##\n",
    "# Making predictions, and generating the confusion matrix\n",
    "previsaoSVM = modeloSVMLinear.fit(x_treino, y_treino)\n",
    "previsoesSVM = previsaoSVM.predict(x_teste)\n",
    "cmSVM = metrics.confusion_matrix(y_teste,previsoesSVM)\n",
    "print(\"\\nMatriz de Confusão\")\n",
    "print(cmSVM)\n",
    "# Generating important metrics such as: Accuracy, Precision, and Recall\n",
    "print(\"\\nAcurácia: \", metrics.accuracy_score(y_teste,previsoesSVM))\n",
    "print(\"\\nPrecisão: \", metrics.precision_score(y_teste,previsoesSVM))\n",
    "print(\"\\nRecall: \", metrics.recall_score(y_teste,previsoesSVM))\n",
    "print(\"\\nF1-Score: \", metrics.f1_score(y_teste,previsoesSVM))"
   ]
  },
  {
   "cell_type": "code",
   "execution_count": 20,
   "metadata": {},
   "outputs": [
    {
     "data": {
      "image/png": "[encoded data removed]",
      "text/plain": [
       "<Figure size 432x288 with 2 Axes>"
      ]
     },
     "metadata": {
      "needs_background": "light"
     },
     "output_type": "display_data"
    }
   ],
   "source": [
    "## Confusion Matrix using Seaborn\n",
    "sns.heatmap(metrics.confusion_matrix(y_teste,previsoesSVM),\n",
    "annot=True,\n",
    "fmt = \".3f\",\n",
    "linewidths=0.5,\n",
    "square = True,\n",
    "cmap = 'cividis_r')\n",
    "\n",
    "plt.ylabel('Verdadeiro')\n",
    "plt.xlabel('Previsto')\n",
    "titulo = metrics.accuracy_score(y_teste, previsoesSVM)\n",
    "plt.suptitle('Matriz de confusão - Modelo SVM', size = 12)\n",
    "plt.title('Acurácia: {0}'.format(titulo*100), size=10)\n",
    "plt.savefig('matrixConfusaoSVM.eps', format = 'eps', dpi = 300)"
   ]
  },
  {
   "cell_type": "code",
   "execution_count": 21,
   "metadata": {},
   "outputs": [
    {
     "name": "stdout",
     "output_type": "stream",
     "text": [
      "\n",
      "Matriz de Confusão\n",
      "[[11  0]\n",
      " [ 3 13]]\n",
      "\n",
      "Acurácia:  0.8888888888888888\n",
      "\n",
      "Precisão:  1.0\n",
      "\n",
      "Recall:  0.8125\n",
      "\n",
      "F1-Score:  0.896551724137931\n"
     ]
    }
   ],
   "source": [
    "## SVM-LINEAR ##\n",
    "# Making predictions, and generating the confusion matrix\n",
    "previsoesLR = modeloLR.fit(x_treino, y_treino).predict(x_teste)\n",
    "cmLR = metrics.confusion_matrix(y_teste,previsoesLR)\n",
    "print(\"\\nMatriz de Confusão\")\n",
    "print(cmLR)\n",
    "# Generating important metrics such as: Accuracy, Precision, and Recall\n",
    "print(\"\\nAcurácia: \", metrics.accuracy_score(y_teste, previsoesLR))\n",
    "print(\"\\nPrecisão: \", metrics.precision_score(y_teste, previsoesLR))\n",
    "print(\"\\nRecall: \", metrics.recall_score(y_teste,previsoesLR ))\n",
    "print(\"\\nF1-Score: \", metrics.f1_score(y_teste,previsoesLR))"
   ]
  },
  {
   "cell_type": "markdown",
   "metadata": {},
   "source": [
    "#### ROC Curve for the Top 3 Best-Performing Models"
   ]
  },
  {
   "cell_type": "code",
   "execution_count": 22,
   "metadata": {},
   "outputs": [],
   "source": [
    "## Predicting the probability for the top 3 models\n",
    "previsoes_probaNB = modeloNB.predict_proba(x_teste)\n",
    "previsoes_probaSVM = modeloSVMLinear.predict_proba(x_teste)\n",
    "previsoes_probaLR = modeloLR.predict_proba(x_teste)\n",
    "# Predicting the probability of the target variable being 1\n",
    "previsoes_probaNB = previsoes_probaNB[:, 1]\n",
    "previsoes_probaSVM = previsoes_probaSVM[:, 1]\n",
    "previsoes_probaLR = previsoes_probaLR[:, 1]"
   ]
  },
  {
   "cell_type": "code",
   "execution_count": 23,
   "metadata": {},
   "outputs": [
    {
     "name": "stdout",
     "output_type": "stream",
     "text": [
      "Naïve Bayes: AUROC = 0.88\n",
      "Support Vector Machine - Linear: AUROC = 0.91\n",
      "Logistic Regression: AUROC = 0.90\n"
     ]
    }
   ],
   "source": [
    "## Calculating the Area Under the ROC Curve (AUROC)\n",
    "nb_auc = roc_auc_score(y_teste, previsoes_probaNB)\n",
    "svm_auc = roc_auc_score(y_teste, previsoes_probaSVM)\n",
    "lr_auc = roc_auc_score(y_teste,previsoes_probaLR)\n",
    "# Calculation for the ROC curve\n",
    "fpr_NB, tpr_NB, thresholds_NB = roc_curve(y_teste, previsoes_probaNB, pos_label = 1, sample_weight = None)\n",
    "fpr_SVM, tpr_SVM, thresholds_SVM = roc_curve(y_teste, previsoes_probaSVM, pos_label = 1, sample_weight = None)\n",
    "fpr_LR, tpr_LR, thresholds_LR = roc_curve(y_teste, previsoes_probaLR, pos_label = 1, sample_weight = None)\n",
    "# Printing the AUROC values\n",
    "print('Naïve Bayes: AUROC = %.2f' % (nb_auc))\n",
    "print('Support Vector Machine - Linear: AUROC = %.2f' % (svm_auc))\n",
    "print('Logistic Regression: AUROC = %.2f' % (lr_auc))"
   ]
  },
  {
   "cell_type": "code",
   "execution_count": 24,
   "metadata": {},
   "outputs": [
    {
     "name": "stderr",
     "output_type": "stream",
     "text": [
      "The PostScript backend does not support transparency; partially transparent artists will be rendered opaque.\n",
      "The PostScript backend does not support transparency; partially transparent artists will be rendered opaque.\n"
     ]
    },
    {
     "data": {
      "image/png": "[encoded data removed]",
      "text/plain": [
       "<Figure size 576x432 with 1 Axes>"
      ]
     },
     "metadata": {
      "needs_background": "light"
     },
     "output_type": "display_data"
    }
   ],
   "source": [
    "## Plotting the ROC curve graph for the Top 3 Best-Performing Models\n",
    "plt.figure(figsize = (8,6))\n",
    "plt.plot([0,1],[0,1], linewidth = 2.0, linestyle= '--', label = \"Modelo Aleatório\")\n",
    "plt.plot(fpr_NB, tpr_NB, linewidth = 2.0, label = \"Modelo NB (auc = %.2f)\" %(nb_auc))\n",
    "plt.plot(fpr_SVM, tpr_SVM, linewidth = 2.0, label = \"Modelo SVM (auc = %.2f)\" %(svm_auc))\n",
    "plt.plot(fpr_LR, tpr_LR, linewidth = 2.0, label = \"Modelo LR (auc = %.2f)\" %(lr_auc))\n",
    "# Title\n",
    "plt.title('Curva ROC - Algoritmos NB, SVM e LR')\n",
    "# Axes\n",
    "plt.xlabel('Taxa de Falsos Positivo  (1 - Especificidade)')\n",
    "plt.ylabel('Taxa de Verdadeiros Positivo (Sensibilidade)')\n",
    "# Limits\n",
    "plt.xlim([-0.02,1.01])\n",
    "plt.ylim([-0.02,1.01])\n",
    "# Legend\n",
    "plt.legend(loc=\"lower right\")\n",
    "# Save the figure\n",
    "plt.savefig('matrixConfusaoSVM.eps', format = 'eps', dpi = 300)\n",
    "plt.savefig('ROC_Curve_Final.eps', format = 'eps', dpi = 300)"
   ]
  }
 ],
 "metadata": {
  "kernelspec": {
   "display_name": "Python 3.9.12 ('base')",
   "language": "python",
   "name": "python3"
  },
  "language_info": {
   "codemirror_mode": {
    "name": "ipython",
    "version": 3
   },
   "file_extension": ".py",
   "mimetype": "text/x-python",
   "name": "python",
   "nbconvert_exporter": "python",
   "pygments_lexer": "ipython3",
   "version": "3.9.12"
  },
  "orig_nbformat": 4,
  "vscode": {
   "interpreter": {
    "hash": "cbc42dd548a34448467008a0595da33922e2fc79301e3849bf529838bb742443"
   }
  }
 },
 "nbformat": 4,
 "nbformat_minor": 2
}
